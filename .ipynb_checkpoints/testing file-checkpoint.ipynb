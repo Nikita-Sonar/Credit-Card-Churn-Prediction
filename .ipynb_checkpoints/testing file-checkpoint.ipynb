{
 "cells": [
  {
   "cell_type": "code",
   "execution_count": 2,
   "id": "45d2ccab",
   "metadata": {},
   "outputs": [],
   "source": [
    "import pickle\n",
    "import pandas as pd\n",
    "import numpy as np\n"
   ]
  },
  {
   "cell_type": "markdown",
   "id": "6b1c6b65",
   "metadata": {},
   "source": [
    "## Create Function"
   ]
  },
  {
   "cell_type": "code",
   "execution_count": 42,
   "id": "548845d0",
   "metadata": {},
   "outputs": [],
   "source": [
    "def get_prediction(Customer_Age,Gender,Dependent_count,education,Income_Category,card,\n",
    "                   Months_on_book,Total_Relationship_Count,Months_Inactive_12_mon,Contacts_Count_12_mon,\n",
    "                   Credit_Limit,Total_Revolving_Bal,Avg_Open_To_Buy,Total_Amt_Chng_Q4_Q1,Total_Trans_Amt,\n",
    "                   Total_Trans_Ct,Total_Ct_Chng_Q4_Q1,Avg_Utilization_Ratio,Marital_Status):\n",
    "    with open(\"creditcard_churn.pkl\",\"rb\") as f:\n",
    "        model = pickle.load(f)\n",
    "    columns_list = ['Customer_Age', 'Gender', 'Dependent_count', 'Education_Level',\n",
    "       'Income_Category', 'Card_Category', 'Months_on_book',\n",
    "       'Total_Relationship_Count', 'Months_Inactive_12_mon',\n",
    "       'Contacts_Count_12_mon', 'Credit_Limit', 'Total_Revolving_Bal',\n",
    "       'Avg_Open_To_Buy', 'Total_Amt_Chng_Q4_Q1', 'Total_Trans_Amt',\n",
    "       'Total_Trans_Ct', 'Total_Ct_Chng_Q4_Q1', 'Avg_Utilization_Ratio',\n",
    "       'Divorced', 'Married','Single']\n",
    "    index = np.where(columns_list == Marital_Status) \n",
    "    if income <= 40000:\n",
    "        Income_Category = 0\n",
    "    elif income > 40000 or income <60000:\n",
    "        Income_Category = 1\n",
    "    elif income > 60000 or income < 80000:\n",
    "        Income_Category = 2\n",
    "    elif income > 80000 or income < 120000:\n",
    "        Income_Category = 3\n",
    "    elif income > 120000:\n",
    "        Income_Category = 4\n",
    "        \n",
    "    if gender = \"male\":\n",
    "        Gender = 0\n",
    "    else:\n",
    "        Gender = 1\n",
    "        \n",
    "    if card == \"blue\":\n",
    "        Card_Category = 0\n",
    "    elif card == \"silver\":\n",
    "        Card_Category = 1\n",
    "    elif card == \"gold\":\n",
    "        Card_Category = 2\n",
    "    if card == \"platinum\":\n",
    "        Card_Category = 3\n",
    "        \n",
    "    if education == \"uneducated\":\n",
    "        Education_Level = 0\n",
    "    elif education == 'High_School':\n",
    "        Education_Level = 1 \n",
    "    elif education == 'College':\n",
    "        Education_Level = 2  \n",
    "    elif education == 'Graduate':\n",
    "        Education_Level = 3 \n",
    "    elif education == 'Post-Graduate':\n",
    "        Education_Level = 4\n",
    "    elif education == \"Doctorate\":\n",
    "        Education_Level = 5\n",
    "\n",
    "\n",
    "    array = np.zeros(21)\n",
    "    array[0] =Customer_Age\n",
    "    array[1] = Gender\n",
    "    array[2] = Dependent_count\n",
    "    array[3] = Education_Level\n",
    "    array[4] = Income_Category\n",
    "    array[5] = Card_Category\n",
    "    array[6] = Months_on_book\n",
    "    array[7] = Total_Relationship_Count\n",
    "    array[8] = Months_Inactive_12_mon\n",
    "    array[9] = Contacts_Count_12_mon\n",
    "    array[10] = Credit_Limit\n",
    "    array[11] = Total_Revolving_Bal\n",
    "    array[12] = Avg_Open_To_Buy\n",
    "    array[13] = Total_Amt_Chng_Q4_Q1\n",
    "    array[14] = Total_Trans_Amt\n",
    "    array[15] = Total_Trans_Ct\n",
    "    array[16] = Total_Ct_Chng_Q4_Q1\n",
    "    array[17] = Avg_Utilization_Ratio\n",
    "    array[index] = 1\n",
    "    \n",
    "    prediction = model.predict([array])\n",
    "    print(prediction)\n",
    "    if prediction == 1.0:\n",
    "        print(\"Existing Customore\")\n",
    "    else:\n",
    "        print(\"Attrited Customer\")"
   ]
  },
  {
   "cell_type": "code",
   "execution_count": 43,
   "id": "2b5ea49f",
   "metadata": {},
   "outputs": [],
   "source": [
    "Customer_Age = 45.000\n",
    "Gender = 0.000\n",
    "Dependent_count = 3.000\n",
    "Education_Level = 'Graduate'\n",
    "income = 12000\n",
    "card = \"platinum\"\n",
    "Months_on_book = 39.000\n",
    "Total_Relationship_Count = 5.000\n",
    "Months_Inactive_12_mon = 1.000\n",
    "Contacts_Count_12_mon = 3.000\n",
    "Credit_Limit = 12691.000\n",
    "Total_Revolving_Bal = 777.000\n",
    "Avg_Open_To_Buy = 11914.000\n",
    "Total_Amt_Chng_Q4_Q1 = 1.335\n",
    "Total_Trans_Amt = 1144.000\n",
    "Total_Trans_Ct = 42.000\n",
    "Total_Ct_Chng_Q4_Q1 = 1.625\n",
    "Avg_Utilization_Ratio = 0.061\n",
    "Marital_Status = \"Married\""
   ]
  },
  {
   "cell_type": "code",
   "execution_count": 44,
   "id": "c275317e",
   "metadata": {},
   "outputs": [
    {
     "name": "stdout",
     "output_type": "stream",
     "text": [
      "[1.]\n",
      "Existing Customore\n"
     ]
    }
   ],
   "source": [
    "get_prediction(Customer_Age,Gender,Dependent_count,Education_Level,income,Card_Category,Months_on_book,Total_Relationship_Count,Months_Inactive_12_mon,Contacts_Count_12_mon,Credit_Limit,Total_Revolving_Bal,Avg_Open_To_Buy,Total_Amt_Chng_Q4_Q1,Total_Trans_Amt,Total_Trans_Ct,Total_Ct_Chng_Q4_Q1,Avg_Utilization_Ratio,Marital_Status)"
   ]
  },
  {
   "cell_type": "code",
   "execution_count": null,
   "id": "2ee6bb3e",
   "metadata": {},
   "outputs": [],
   "source": []
  }
 ],
 "metadata": {
  "kernelspec": {
   "display_name": "Python 3 (ipykernel)",
   "language": "python",
   "name": "python3"
  },
  "language_info": {
   "codemirror_mode": {
    "name": "ipython",
    "version": 3
   },
   "file_extension": ".py",
   "mimetype": "text/x-python",
   "name": "python",
   "nbconvert_exporter": "python",
   "pygments_lexer": "ipython3",
   "version": "3.9.7"
  }
 },
 "nbformat": 4,
 "nbformat_minor": 5
}
